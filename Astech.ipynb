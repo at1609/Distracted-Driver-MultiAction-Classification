{
  "cells": [
    {
      "cell_type": "markdown",
      "metadata": {
        "id": "view-in-github",
        "colab_type": "text"
      },
      "source": [
        "<a href=\"https://colab.research.google.com/github/at1609/Distracted-Driver-MultiAction-Classification/blob/main/Astech.ipynb\" target=\"_parent\"><img src=\"https://colab.research.google.com/assets/colab-badge.svg\" alt=\"Open In Colab\"/></a>"
      ]
    },
    {
      "cell_type": "code",
      "execution_count": null,
      "metadata": {
        "colab": {
          "base_uri": "https://localhost:8080/",
          "height": 315
        },
        "id": "5MXlRRnwsgsu",
        "outputId": "677acbb7-7514-4038-8604-3a7eda507682"
      },
      "outputs": [
        {
          "name": "stdout",
          "output_type": "stream",
          "text": [
            "Looking in indexes: https://pypi.org/simple, https://us-python.pkg.dev/colab-wheels/public/simple/\n",
            "Collecting opencv-python==4.5.1.48\n",
            "  Downloading opencv_python-4.5.1.48-cp39-cp39-manylinux2014_x86_64.whl (50.4 MB)\n",
            "\u001b[2K     \u001b[90m━━━━━━━━━━━━━━━━━━━━━━━━━━━━━━━━━━━━━━━━\u001b[0m \u001b[32m50.4/50.4 MB\u001b[0m \u001b[31m13.4 MB/s\u001b[0m eta \u001b[36m0:00:00\u001b[0m\n",
            "\u001b[?25hRequirement already satisfied: numpy>=1.19.3 in /usr/local/lib/python3.9/dist-packages (from opencv-python==4.5.1.48) (1.22.4)\n",
            "Installing collected packages: opencv-python\n",
            "  Attempting uninstall: opencv-python\n",
            "    Found existing installation: opencv-python 4.7.0.72\n",
            "    Uninstalling opencv-python-4.7.0.72:\n",
            "      Successfully uninstalled opencv-python-4.7.0.72\n",
            "Successfully installed opencv-python-4.5.1.48\n"
          ]
        },
        {
          "data": {
            "application/vnd.colab-display-data+json": {
              "pip_warning": {
                "packages": [
                  "cv2"
                ]
              }
            }
          },
          "metadata": {},
          "output_type": "display_data"
        }
      ],
      "source": [
        "!pip install opencv-python==4.5.1.48"
      ]
    },
    {
      "cell_type": "code",
      "execution_count": null,
      "metadata": {
        "id": "MgDs4tyhOedn"
      },
      "outputs": [],
      "source": [
        "#from keras.applications.vgg16 import VGG16"
      ]
    },
    {
      "cell_type": "code",
      "execution_count": null,
      "metadata": {
        "colab": {
          "base_uri": "https://localhost:8080/"
        },
        "id": "bwonImj8O7t8",
        "outputId": "bb908b27-a720-4164-f055-4caa9d918e66"
      },
      "outputs": [
        {
          "name": "stdout",
          "output_type": "stream",
          "text": [
            "Downloading data from https://storage.googleapis.com/tensorflow/keras-applications/vgg16/vgg16_weights_tf_dim_ordering_tf_kernels.h5\n",
            "553467096/553467096 [==============================] - 4s 0us/step\n"
          ]
        }
      ],
      "source": [
        "#cnn_model = VGG16(weights='imagenet')"
      ]
    },
    {
      "cell_type": "code",
      "execution_count": null,
      "metadata": {
        "colab": {
          "base_uri": "https://localhost:8080/"
        },
        "id": "Fv0LtnXMj7cD",
        "outputId": "dbc6ea68-7878-4fcd-f568-96636818adc1"
      },
      "outputs": [
        {
          "name": "stdout",
          "output_type": "stream",
          "text": [
            "Model: \"vgg16\"\n",
            "_________________________________________________________________\n",
            " Layer (type)                Output Shape              Param #   \n",
            "=================================================================\n",
            " input_1 (InputLayer)        [(None, 224, 224, 3)]     0         \n",
            "                                                                 \n",
            " block1_conv1 (Conv2D)       (None, 224, 224, 64)      1792      \n",
            "                                                                 \n",
            " block1_conv2 (Conv2D)       (None, 224, 224, 64)      36928     \n",
            "                                                                 \n",
            " block1_pool (MaxPooling2D)  (None, 112, 112, 64)      0         \n",
            "                                                                 \n",
            " block2_conv1 (Conv2D)       (None, 112, 112, 128)     73856     \n",
            "                                                                 \n",
            " block2_conv2 (Conv2D)       (None, 112, 112, 128)     147584    \n",
            "                                                                 \n",
            " block2_pool (MaxPooling2D)  (None, 56, 56, 128)       0         \n",
            "                                                                 \n",
            " block3_conv1 (Conv2D)       (None, 56, 56, 256)       295168    \n",
            "                                                                 \n",
            " block3_conv2 (Conv2D)       (None, 56, 56, 256)       590080    \n",
            "                                                                 \n",
            " block3_conv3 (Conv2D)       (None, 56, 56, 256)       590080    \n",
            "                                                                 \n",
            " block3_pool (MaxPooling2D)  (None, 28, 28, 256)       0         \n",
            "                                                                 \n",
            " block4_conv1 (Conv2D)       (None, 28, 28, 512)       1180160   \n",
            "                                                                 \n",
            " block4_conv2 (Conv2D)       (None, 28, 28, 512)       2359808   \n",
            "                                                                 \n",
            " block4_conv3 (Conv2D)       (None, 28, 28, 512)       2359808   \n",
            "                                                                 \n",
            " block4_pool (MaxPooling2D)  (None, 14, 14, 512)       0         \n",
            "                                                                 \n",
            " block5_conv1 (Conv2D)       (None, 14, 14, 512)       2359808   \n",
            "                                                                 \n",
            " block5_conv2 (Conv2D)       (None, 14, 14, 512)       2359808   \n",
            "                                                                 \n",
            " block5_conv3 (Conv2D)       (None, 14, 14, 512)       2359808   \n",
            "                                                                 \n",
            " block5_pool (MaxPooling2D)  (None, 7, 7, 512)         0         \n",
            "                                                                 \n",
            " flatten (Flatten)           (None, 25088)             0         \n",
            "                                                                 \n",
            " fc1 (Dense)                 (None, 4096)              102764544 \n",
            "                                                                 \n",
            " fc2 (Dense)                 (None, 4096)              16781312  \n",
            "                                                                 \n",
            " predictions (Dense)         (None, 1000)              4097000   \n",
            "                                                                 \n",
            "=================================================================\n",
            "Total params: 138,357,544\n",
            "Trainable params: 138,357,544\n",
            "Non-trainable params: 0\n",
            "_________________________________________________________________\n"
          ]
        }
      ],
      "source": [
        "#cnn_model.summary()"
      ]
    },
    {
      "cell_type": "code",
      "execution_count": 1,
      "metadata": {
        "colab": {
          "base_uri": "https://localhost:8080/"
        },
        "id": "8bDbxtTgzas3",
        "outputId": "8979b135-0b9a-496e-a5ca-603819a1358b"
      },
      "outputs": [
        {
          "output_type": "stream",
          "name": "stdout",
          "text": [
            "Downloading data from https://storage.googleapis.com/tensorflow/keras-applications/vgg16/vgg16_weights_tf_dim_ordering_tf_kernels_notop.h5\n",
            "58889256/58889256 [==============================] - 0s 0us/step\n"
          ]
        }
      ],
      "source": [
        "from tensorflow.keras.applications import VGG16\n",
        "from tensorflow.keras.layers import Input\n",
        "\n",
        "# Define the input shape\n",
        "input_shape = (64, 64, 3)\n",
        "\n",
        "# Create the VGG16 model\n",
        "model = VGG16(weights='imagenet', include_top=False, input_shape=input_shape)\n"
      ]
    },
    {
      "cell_type": "code",
      "execution_count": 2,
      "metadata": {
        "colab": {
          "base_uri": "https://localhost:8080/"
        },
        "id": "UXRu-LJr1mTc",
        "outputId": "4780531a-1331-4e9c-dec0-62e4c641a03a"
      },
      "outputs": [
        {
          "output_type": "stream",
          "name": "stdout",
          "text": [
            "Model: \"vgg16\"\n",
            "_________________________________________________________________\n",
            " Layer (type)                Output Shape              Param #   \n",
            "=================================================================\n",
            " input_1 (InputLayer)        [(None, 64, 64, 3)]       0         \n",
            "                                                                 \n",
            " block1_conv1 (Conv2D)       (None, 64, 64, 64)        1792      \n",
            "                                                                 \n",
            " block1_conv2 (Conv2D)       (None, 64, 64, 64)        36928     \n",
            "                                                                 \n",
            " block1_pool (MaxPooling2D)  (None, 32, 32, 64)        0         \n",
            "                                                                 \n",
            " block2_conv1 (Conv2D)       (None, 32, 32, 128)       73856     \n",
            "                                                                 \n",
            " block2_conv2 (Conv2D)       (None, 32, 32, 128)       147584    \n",
            "                                                                 \n",
            " block2_pool (MaxPooling2D)  (None, 16, 16, 128)       0         \n",
            "                                                                 \n",
            " block3_conv1 (Conv2D)       (None, 16, 16, 256)       295168    \n",
            "                                                                 \n",
            " block3_conv2 (Conv2D)       (None, 16, 16, 256)       590080    \n",
            "                                                                 \n",
            " block3_conv3 (Conv2D)       (None, 16, 16, 256)       590080    \n",
            "                                                                 \n",
            " block3_pool (MaxPooling2D)  (None, 8, 8, 256)         0         \n",
            "                                                                 \n",
            " block4_conv1 (Conv2D)       (None, 8, 8, 512)         1180160   \n",
            "                                                                 \n",
            " block4_conv2 (Conv2D)       (None, 8, 8, 512)         2359808   \n",
            "                                                                 \n",
            " block4_conv3 (Conv2D)       (None, 8, 8, 512)         2359808   \n",
            "                                                                 \n",
            " block4_pool (MaxPooling2D)  (None, 4, 4, 512)         0         \n",
            "                                                                 \n",
            " block5_conv1 (Conv2D)       (None, 4, 4, 512)         2359808   \n",
            "                                                                 \n",
            " block5_conv2 (Conv2D)       (None, 4, 4, 512)         2359808   \n",
            "                                                                 \n",
            " block5_conv3 (Conv2D)       (None, 4, 4, 512)         2359808   \n",
            "                                                                 \n",
            " block5_pool (MaxPooling2D)  (None, 2, 2, 512)         0         \n",
            "                                                                 \n",
            "=================================================================\n",
            "Total params: 14,714,688\n",
            "Trainable params: 14,714,688\n",
            "Non-trainable params: 0\n",
            "_________________________________________________________________\n"
          ]
        }
      ],
      "source": [
        "model.summary()"
      ]
    },
    {
      "cell_type": "code",
      "execution_count": 3,
      "metadata": {
        "id": "RkhVBtOCqTgA"
      },
      "outputs": [],
      "source": [
        "import cv2 \n",
        "import os\n",
        "\n",
        "input_dir = \"/content/drive/MyDrive/furniture_images\"\n",
        "output_dir = \"/content/resized\"\n",
        "\n",
        "if not os.path.exists('output_dir'):\n",
        "  os.makedirs(output_dir)\n",
        "\n",
        "for file_name in os.listdir(input_dir):\n",
        "\n",
        "  if file_name.endswith('jpg'):\n",
        "\n",
        "    img = cv2.imread(os.path.join(input_dir, file_name))\n",
        "\n",
        "    resized_img = cv2.resize(img, (64,64))\n",
        "\n",
        "    cv2.imwrite(os.path.join(output_dir, file_name), resized_img)\n",
        "\n"
      ]
    },
    {
      "cell_type": "code",
      "execution_count": 4,
      "metadata": {
        "id": "MPrhqRP2_ZE3"
      },
      "outputs": [],
      "source": [
        "import cv2\n",
        "import numpy as np\n",
        "import time\n",
        "from sklearn.model_selection import train_test_split\n",
        "import os\n",
        "\n",
        "# Define the encoder-decoder model to compress the features\n",
        "from keras.layers import Input, Dense, Dropout, Flatten, Reshape, BatchNormalization, LSTM, Conv2D, MaxPooling2D, Conv2DTranspose, UpSampling2D\n",
        "from keras.models import Model, Sequential\n",
        "from sklearn.model_selection import train_test_split \n",
        "\n",
        "input_shape = (2,2,512)\n",
        "# Define the shapeencoder model\n",
        "latent_dim = 64\n",
        "\n",
        "# Define the encoder model\n",
        "input_img = Input(shape=input_shape)\n",
        "x = Flatten()(input_img)\n",
        "x = Dense(256, activation='relu')(x)\n",
        "x = Dense(128, activation='relu')(x)\n",
        "encoded = Dense(64, activation='relu')(x)\n",
        "\n",
        "encoder_model = Model(input_img, encoded)\n",
        "\n",
        "# Define the decoder model\n",
        "decoder_input = Input(shape=(latent_dim,))\n",
        "x = Dense(128, activation='relu')(decoder_input)\n",
        "x = Dense(256, activation='relu')(x)\n",
        "x = Dense(512, activation='relu')(x)\n",
        "x = Dense(1024, activation='relu')(x)\n",
        "x = Dense(2048, activation='relu')(x)\n",
        "x = Reshape((2, 2, 512))(x)\n",
        "decoded_output = x\n",
        "\n",
        "decoder_model = Model(decoder_input, decoded_output)\n",
        "\n",
        "\n",
        "#decoder_model = Model(decoded_input, decoded_output)\n",
        "\n",
        "# Define the autoencoder model\n",
        "autoencoder = Model(input_img, decoder_model(encoder_model(input_img)))\n",
        "\n",
        "# Compile the autoencoder model\n",
        "autoencoder.compile(optimizer='adam', loss='mse')\n",
        "\n",
        "# Compile the model\n",
        "#autoencoder.compile(loss='binary_crossentropy', optimizer='adam')\n",
        "\n",
        "folder_path = '/content/resized'\n",
        "\n",
        "images = [f for f in os.listdir(folder_path) if f.endswith(\".jpg\")]\n",
        "\n",
        "train, test = train_test_split(images, test_size = 0.3, random_state = 42)\n",
        "train_data, valid_data = train_test_split(train, test_size=0.3, random_state = 42)\n",
        "\n",
        "x_train, y_train = train_test_split(train_data, test_size = 0.2 , random_state = 42)\n",
        "x_valid, y_valid = train_test_split(valid_data, test_size = 0.2, random_state = 42)\n",
        "\n",
        "x_test, y_test = train_test_split(test, test_size = 0.2 , random_state = 42)"
      ]
    },
    {
      "cell_type": "code",
      "execution_count": 5,
      "metadata": {
        "id": "lKg9WHKjCcHR"
      },
      "outputs": [],
      "source": [
        "from keras.applications.vgg16 import preprocess_input\n",
        "# Assuming x_train is a 3D tensor with shape (num_samples, height, width)\n",
        "x_train = np.random.rand(64, 64, 3)\n",
        "y_train = np.random.rand(64,64,3)\n",
        "x_valid = np.random.rand(64, 64, 3)\n",
        "y_valid = np.random.rand(64, 64, 3)\n",
        "x_test = np.random.rand(64, 64, 3)\n",
        "y_test = np.random.rand(64, 64, 3)\n",
        "\n",
        "\n",
        "# Add batch_size dimension\n",
        "x_train = np.expand_dims(x_train, axis=0)\n",
        "y_train = np.expand_dims(y_train, axis=0)\n",
        "x_valid = np.expand_dims(x_valid, axis=0)\n",
        "y_valid = np.expand_dims(y_valid, axis=0)\n",
        "x_test = np.expand_dims(x_test, axis=0)\n",
        "y_test= np.expand_dims(y_test, axis=0)\n",
        "\n",
        "# Preprocess input data\n",
        "x_train = preprocess_input(x_train)\n",
        "x_test = preprocess_input(x_test)\n",
        "x_valid = preprocess_input(x_valid)\n",
        "y_valid = preprocess_input(y_valid)\n",
        "x_test = preprocess_input(x_test)\n",
        "y_test = preprocess_input(y_test)"
      ]
    },
    {
      "cell_type": "code",
      "source": [
        "os.makedirs('/content/cnn_features.npy')\n",
        "        "
      ],
      "metadata": {
        "id": "RpFkKqB79VVA"
      },
      "execution_count": 9,
      "outputs": []
    },
    {
      "cell_type": "code",
      "source": [
        "from google.colab.patches import cv2_imshow\n",
        "x_train_features = model.predict(x_train)\n",
        "y_train_features = model.predict(y_train)\n",
        "x_val_features = model.predict(x_valid)\n",
        "y_val_features = model.predict(y_valid)\n",
        "x_test_features = model.predict(x_test)\n",
        "y_test_features = model.predict(y_test)\n",
        "\n",
        "#train_rnn_features = rnn_model.predict(train_data)\n",
        "#val_rnn_features = rnn_model.predict(val_data)\n",
        "#test_rnn_features = rnn_model.predict(test_data)\n",
        "\n",
        "# Train the model\n",
        "autoencoder.fit(x_train_features, y_train_features, validation_data=(x_val_features, y_val_features), epochs=10, batch_size=64)\n",
        "\n",
        "# Evaluate the model on the testing set\n",
        "autoencoder.evaluate(x_test_features, y_test_features)\n",
        "\n",
        "# Save the model to disk\n",
        "autoencoder.save(\"autoencoder.h5\")\n",
        "\n",
        "# Define a function to capture and compress frames\n",
        "def capture_and_compress_video():\n",
        "    # Initialize the camera\n",
        "    camera = cv2.VideoCapture(0)\n",
        "    \n",
        "    # Define the codec and create VideoWriter object\n",
        "    fourcc = cv2.VideoWriter_fourcc(*'XVID')\n",
        "    out = cv2.VideoWriter('output.avi',fourcc, 20.0, (64,64))\n",
        "    \n",
        "    # Loop over the frames\n",
        "    while(camera.isOpened()):\n",
        "        # Capture the frame\n",
        "        ret, frame = camera.read()\n",
        "        \n",
        "        # Break the loop if no frame is captured\n",
        "        if not ret:\n",
        "            break\n",
        "        "
      ],
      "metadata": {
        "colab": {
          "base_uri": "https://localhost:8080/"
        },
        "id": "58Ku0I0--HEN",
        "outputId": "8c5098e8-7e6e-4cde-9936-21baafb18492"
      },
      "execution_count": 21,
      "outputs": [
        {
          "output_type": "stream",
          "name": "stdout",
          "text": [
            "1/1 [==============================] - 0s 87ms/step\n",
            "1/1 [==============================] - 0s 78ms/step\n",
            "1/1 [==============================] - 0s 81ms/step\n",
            "1/1 [==============================] - 0s 80ms/step\n",
            "1/1 [==============================] - 0s 76ms/step\n",
            "1/1 [==============================] - 0s 72ms/step\n",
            "Epoch 1/10\n",
            "1/1 [==============================] - 0s 136ms/step - loss: 0.0372 - val_loss: 16.4767\n",
            "Epoch 2/10\n",
            "1/1 [==============================] - 0s 95ms/step - loss: 0.0372 - val_loss: 16.4767\n",
            "Epoch 3/10\n",
            "1/1 [==============================] - 0s 106ms/step - loss: 0.0372 - val_loss: 16.4767\n",
            "Epoch 4/10\n",
            "1/1 [==============================] - 0s 120ms/step - loss: 0.0372 - val_loss: 16.4767\n",
            "Epoch 5/10\n",
            "1/1 [==============================] - 0s 118ms/step - loss: 0.0372 - val_loss: 16.4766\n",
            "Epoch 6/10\n",
            "1/1 [==============================] - 0s 109ms/step - loss: 0.0372 - val_loss: 16.4766\n",
            "Epoch 7/10\n",
            "1/1 [==============================] - 0s 101ms/step - loss: 0.0372 - val_loss: 16.4767\n",
            "Epoch 8/10\n",
            "1/1 [==============================] - 0s 125ms/step - loss: 0.0372 - val_loss: 16.4767\n",
            "Epoch 9/10\n",
            "1/1 [==============================] - 0s 107ms/step - loss: 0.0372 - val_loss: 16.4767\n",
            "Epoch 10/10\n",
            "1/1 [==============================] - 0s 89ms/step - loss: 0.0372 - val_loss: 16.4767\n",
            "1/1 [==============================] - 0s 39ms/step - loss: 16.6851\n"
          ]
        }
      ]
    },
    {
      "cell_type": "code",
      "execution_count": 22,
      "metadata": {
        "colab": {
          "base_uri": "https://localhost:8080/",
          "height": 815
        },
        "id": "pQMk2R5jE7R_",
        "outputId": "b7f8dacb-b9ca-4102-bc5a-97a3013fe12e"
      },
      "outputs": [
        {
          "output_type": "stream",
          "name": "stdout",
          "text": [
            "1/1 [==============================] - 0s 86ms/step\n",
            "1/1 [==============================] - 0s 73ms/step\n",
            "1/1 [==============================] - 0s 75ms/step\n",
            "1/1 [==============================] - 0s 73ms/step\n",
            "1/1 [==============================] - 0s 74ms/step\n",
            "1/1 [==============================] - 0s 73ms/step\n",
            "Epoch 1/10\n",
            "1/1 [==============================] - 0s 108ms/step - loss: 0.0372 - val_loss: 16.4767\n",
            "Epoch 2/10\n",
            "1/1 [==============================] - 0s 72ms/step - loss: 0.0372 - val_loss: 16.4767\n",
            "Epoch 3/10\n",
            "1/1 [==============================] - 0s 67ms/step - loss: 0.0372 - val_loss: 16.4767\n",
            "Epoch 4/10\n",
            "1/1 [==============================] - 0s 86ms/step - loss: 0.0372 - val_loss: 16.4767\n",
            "Epoch 5/10\n",
            "1/1 [==============================] - 0s 73ms/step - loss: 0.0372 - val_loss: 16.4767\n",
            "Epoch 6/10\n",
            "1/1 [==============================] - 0s 72ms/step - loss: 0.0372 - val_loss: 16.4767\n",
            "Epoch 7/10\n",
            "1/1 [==============================] - 0s 76ms/step - loss: 0.0372 - val_loss: 16.4767\n",
            "Epoch 8/10\n",
            "1/1 [==============================] - 0s 73ms/step - loss: 0.0372 - val_loss: 16.4767\n",
            "Epoch 9/10\n",
            "1/1 [==============================] - 0s 87ms/step - loss: 0.0372 - val_loss: 16.4767\n",
            "Epoch 10/10\n",
            "1/1 [==============================] - 0s 80ms/step - loss: 0.0372 - val_loss: 16.4767\n",
            "1/1 [==============================] - 0s 34ms/step - loss: 16.6851\n"
          ]
        },
        {
          "output_type": "error",
          "ename": "IsADirectoryError",
          "evalue": "ignored",
          "traceback": [
            "\u001b[0;31m---------------------------------------------------------------------------\u001b[0m",
            "\u001b[0;31mIsADirectoryError\u001b[0m                         Traceback (most recent call last)",
            "\u001b[0;32m<ipython-input-22-7d3e6a94e414>\u001b[0m in \u001b[0;36m<cell line: 108>\u001b[0;34m()\u001b[0m\n\u001b[1;32m    106\u001b[0m \u001b[0;31m# Call the functions to capture and compress the video frames, and browse the recorded content\u001b[0m\u001b[0;34m\u001b[0m\u001b[0;34m\u001b[0m\u001b[0m\n\u001b[1;32m    107\u001b[0m \u001b[0mcapture_and_compress_video\u001b[0m\u001b[0;34m(\u001b[0m\u001b[0;34m)\u001b[0m\u001b[0;34m\u001b[0m\u001b[0;34m\u001b[0m\u001b[0m\n\u001b[0;32m--> 108\u001b[0;31m \u001b[0mbrowse_recorded_content\u001b[0m\u001b[0;34m(\u001b[0m\u001b[0;34m)\u001b[0m\u001b[0;34m\u001b[0m\u001b[0;34m\u001b[0m\u001b[0m\n\u001b[0m",
            "\u001b[0;32m<ipython-input-22-7d3e6a94e414>\u001b[0m in \u001b[0;36mbrowse_recorded_content\u001b[0;34m()\u001b[0m\n\u001b[1;32m     82\u001b[0m \u001b[0;32mdef\u001b[0m \u001b[0mbrowse_recorded_content\u001b[0m\u001b[0;34m(\u001b[0m\u001b[0;34m)\u001b[0m\u001b[0;34m:\u001b[0m\u001b[0;34m\u001b[0m\u001b[0;34m\u001b[0m\u001b[0m\n\u001b[1;32m     83\u001b[0m     \u001b[0;31m# Load the compressed features from disk\u001b[0m\u001b[0;34m\u001b[0m\u001b[0;34m\u001b[0m\u001b[0m\n\u001b[0;32m---> 84\u001b[0;31m     \u001b[0mcompressed_cnn_features\u001b[0m \u001b[0;34m=\u001b[0m \u001b[0mnp\u001b[0m\u001b[0;34m.\u001b[0m\u001b[0mload\u001b[0m\u001b[0;34m(\u001b[0m\u001b[0;34m'/content/cnn_features.npy'\u001b[0m\u001b[0;34m)\u001b[0m\u001b[0;34m\u001b[0m\u001b[0;34m\u001b[0m\u001b[0m\n\u001b[0m\u001b[1;32m     85\u001b[0m     \u001b[0;31m#compressed_rnn_features = np.load(\"rnn_features.npy\")\u001b[0m\u001b[0;34m\u001b[0m\u001b[0;34m\u001b[0m\u001b[0m\n\u001b[1;32m     86\u001b[0m \u001b[0;34m\u001b[0m\u001b[0m\n",
            "\u001b[0;32m/usr/local/lib/python3.9/dist-packages/numpy/lib/npyio.py\u001b[0m in \u001b[0;36mload\u001b[0;34m(file, mmap_mode, allow_pickle, fix_imports, encoding)\u001b[0m\n\u001b[1;32m    405\u001b[0m             \u001b[0mown_fid\u001b[0m \u001b[0;34m=\u001b[0m \u001b[0;32mFalse\u001b[0m\u001b[0;34m\u001b[0m\u001b[0;34m\u001b[0m\u001b[0m\n\u001b[1;32m    406\u001b[0m         \u001b[0;32melse\u001b[0m\u001b[0;34m:\u001b[0m\u001b[0;34m\u001b[0m\u001b[0;34m\u001b[0m\u001b[0m\n\u001b[0;32m--> 407\u001b[0;31m             \u001b[0mfid\u001b[0m \u001b[0;34m=\u001b[0m \u001b[0mstack\u001b[0m\u001b[0;34m.\u001b[0m\u001b[0menter_context\u001b[0m\u001b[0;34m(\u001b[0m\u001b[0mopen\u001b[0m\u001b[0;34m(\u001b[0m\u001b[0mos_fspath\u001b[0m\u001b[0;34m(\u001b[0m\u001b[0mfile\u001b[0m\u001b[0;34m)\u001b[0m\u001b[0;34m,\u001b[0m \u001b[0;34m\"rb\"\u001b[0m\u001b[0;34m)\u001b[0m\u001b[0;34m)\u001b[0m\u001b[0;34m\u001b[0m\u001b[0;34m\u001b[0m\u001b[0m\n\u001b[0m\u001b[1;32m    408\u001b[0m             \u001b[0mown_fid\u001b[0m \u001b[0;34m=\u001b[0m \u001b[0;32mTrue\u001b[0m\u001b[0;34m\u001b[0m\u001b[0;34m\u001b[0m\u001b[0m\n\u001b[1;32m    409\u001b[0m \u001b[0;34m\u001b[0m\u001b[0m\n",
            "\u001b[0;31mIsADirectoryError\u001b[0m: [Errno 21] Is a directory: '/content/cnn_features.npy'"
          ]
        }
      ],
      "source": [
        "from google.colab.patches import cv2_imshow\n",
        "x_train_features = model.predict(x_train)\n",
        "y_train_features = model.predict(y_train)\n",
        "x_val_features = model.predict(x_valid)\n",
        "y_val_features = model.predict(y_valid)\n",
        "x_test_features = model.predict(x_test)\n",
        "y_test_features = model.predict(y_test)\n",
        "\n",
        "#train_rnn_features = rnn_model.predict(train_data)\n",
        "#val_rnn_features = rnn_model.predict(val_data)\n",
        "#test_rnn_features = rnn_model.predict(test_data)\n",
        "\n",
        "# Train the model\n",
        "autoencoder.fit(x_train_features, y_train_features, validation_data=(x_val_features, y_val_features), epochs=10, batch_size=64)\n",
        "\n",
        "# Evaluate the model on the testing set\n",
        "autoencoder.evaluate(x_test_features, y_test_features)\n",
        "\n",
        "# Save the model to disk\n",
        "autoencoder.save(\"autoencoder.h5\")\n",
        "\n",
        "# Define a function to capture and compress frames\n",
        "def capture_and_compress_video():\n",
        "    # Initialize the camera\n",
        "    camera = cv2.VideoCapture(0)\n",
        "    \n",
        "    # Define the codec and create VideoWriter object\n",
        "    fourcc = cv2.VideoWriter_fourcc(*'XVID')\n",
        "    out = cv2.VideoWriter('output.avi',fourcc, 20.0, (64,64))\n",
        "    \n",
        "    # Loop over the frames\n",
        "    while(camera.isOpened()):\n",
        "        # Capture the frame\n",
        "        ret, frame = camera.read()\n",
        "        \n",
        "        # Break the loop if no frame is captured\n",
        "        if not ret:\n",
        "            break\n",
        "        \n",
        "        # Preprocess the video frame as required\n",
        "        # Convert the frame to the input shape required by the model\n",
        "                # Resize the frame to the input shape required by the model\n",
        "        input_frame = cv2.resize(frame, input_shape[:2])\n",
        "        \n",
        "        # Normalize the pixel values of the frame\n",
        "        input_frame = input_frame.astype('float32') / 255.0\n",
        "        \n",
        "        # Extract the required features from the frame using the pre-trained CNN and RNN models\n",
        "        cnn_features = model.predict(np.array([input_frame]))\n",
        "        #rnn_features = rnn_model.predict(np.array([input_frame]))\n",
        "        \n",
        "        # Compress the features using the encoder model\n",
        "        compressed_cnn_features = encoder.predict(cnn_features)\n",
        "        #compressed_rnn_features = encoder.predict(rnn_features)\n",
        "        \n",
        "        # Save the compressed features to disk\n",
        "        # Mount Google Drive to Colab\n",
        "        from google.colab import drive\n",
        "        drive.mount('/content/drive')\n",
        "\n",
        "        # Save the compressed features to a file in Google Drive\n",
        "        np.save('/content/cnn_features.npy', compressed_cnn_features)\n",
        "\n",
        "        #np.save(\"rnn_features.npy\", compressed_rnn_features)\n",
        "        \n",
        "        # Write the frame to the output video\n",
        "        out.write(frame)\n",
        "        \n",
        "        # Display the frame\n",
        "        cv2_imshow('frame',frame)\n",
        "        \n",
        "        # Break the loop if the 'q' key is pressed\n",
        "        if cv2.waitKey(1) & 0xFF == ord('q'):\n",
        "            break\n",
        "    \n",
        "    # Release the camera and the video writer\n",
        "    camera.release()\n",
        "    out.release()\n",
        "    cv2.destroyAllWindows()\n",
        "    \n",
        "# Define a function to browse the recorded content\n",
        "def browse_recorded_content():\n",
        "    # Load the compressed features from disk\n",
        "    compressed_cnn_features = np.load('/content/cnn_features.npy')\n",
        "    #compressed_rnn_features = np.load(\"rnn_features.npy\")\n",
        "    \n",
        "    # Decompress the features using the decoder model\n",
        "    decompressed_cnn_features = decoder.predict(compressed_cnn_features)\n",
        "    #decompressed_rnn_features = decoder.predict(compressed_rnn_features)\n",
        "    \n",
        "    # Reconstruct the video frames from the decompressed features\n",
        "    reconstructed_frames = []\n",
        "    for i in range(decompressed_cnn_features.shape[0]):\n",
        "        reconstructed_frame = cv2.resize(decompressed_cnn_features[i], (224, 224))\n",
        "        reconstructed_frames.append(reconstructed_frame)\n",
        "    \n",
        "    # Play the reconstructed video\n",
        "    for frame in reconstructed_frames:\n",
        "        cv2_imshow('frame', frame)\n",
        "        if cv2.waitKey(1) & 0xFF == ord('q'):\n",
        "            break\n",
        "    \n",
        "    # Release the window\n",
        "    cv2.destroyAllWindows()\n",
        "    \n",
        "# Call the functions to capture and compress the video frames, and browse the recorded content\n",
        "capture_and_compress_video()\n",
        "browse_recorded_content()"
      ]
    }
  ],
  "metadata": {
    "colab": {
      "provenance": [],
      "mount_file_id": "1ux7b4sF0PjlNsmviBpPH2S7QovX94vuK",
      "authorship_tag": "ABX9TyPij5K2LhnwbHO4fSoAPlIF",
      "include_colab_link": true
    },
    "gpuClass": "standard",
    "kernelspec": {
      "display_name": "Python 3",
      "name": "python3"
    },
    "language_info": {
      "name": "python"
    }
  },
  "nbformat": 4,
  "nbformat_minor": 0
}